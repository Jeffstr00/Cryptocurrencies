{
 "cells": [
  {
   "cell_type": "code",
   "execution_count": 3,
   "id": "9b0fd8b0",
   "metadata": {},
   "outputs": [],
   "source": [
    "# Import dependencies\n",
    "import pandas as pd\n",
    "from sklearn.preprocessing import StandardScaler\n",
    "from sklearn.decomposition import PCA\n",
    "from sklearn.cluster import KMeans\n",
    "import hvplot.pandas"
   ]
  },
  {
   "cell_type": "code",
   "execution_count": 4,
   "id": "683ae8fb",
   "metadata": {},
   "outputs": [
    {
     "data": {
      "text/html": [
       "<div>\n",
       "<style scoped>\n",
       "    .dataframe tbody tr th:only-of-type {\n",
       "        vertical-align: middle;\n",
       "    }\n",
       "\n",
       "    .dataframe tbody tr th {\n",
       "        vertical-align: top;\n",
       "    }\n",
       "\n",
       "    .dataframe thead th {\n",
       "        text-align: right;\n",
       "    }\n",
       "</style>\n",
       "<table border=\"1\" class=\"dataframe\">\n",
       "  <thead>\n",
       "    <tr style=\"text-align: right;\">\n",
       "      <th></th>\n",
       "      <th>sepal_length</th>\n",
       "      <th>petal_length</th>\n",
       "      <th>sepal_width</th>\n",
       "      <th>petal_width</th>\n",
       "    </tr>\n",
       "  </thead>\n",
       "  <tbody>\n",
       "    <tr>\n",
       "      <th>0</th>\n",
       "      <td>5.1</td>\n",
       "      <td>1.4</td>\n",
       "      <td>3.5</td>\n",
       "      <td>0.2</td>\n",
       "    </tr>\n",
       "    <tr>\n",
       "      <th>1</th>\n",
       "      <td>4.9</td>\n",
       "      <td>1.4</td>\n",
       "      <td>3.0</td>\n",
       "      <td>0.2</td>\n",
       "    </tr>\n",
       "    <tr>\n",
       "      <th>2</th>\n",
       "      <td>4.7</td>\n",
       "      <td>1.3</td>\n",
       "      <td>3.2</td>\n",
       "      <td>0.2</td>\n",
       "    </tr>\n",
       "    <tr>\n",
       "      <th>3</th>\n",
       "      <td>4.6</td>\n",
       "      <td>1.5</td>\n",
       "      <td>3.1</td>\n",
       "      <td>0.2</td>\n",
       "    </tr>\n",
       "    <tr>\n",
       "      <th>4</th>\n",
       "      <td>5.0</td>\n",
       "      <td>1.4</td>\n",
       "      <td>3.6</td>\n",
       "      <td>0.2</td>\n",
       "    </tr>\n",
       "  </tbody>\n",
       "</table>\n",
       "</div>"
      ],
      "text/plain": [
       "   sepal_length  petal_length  sepal_width  petal_width\n",
       "0           5.1           1.4          3.5          0.2\n",
       "1           4.9           1.4          3.0          0.2\n",
       "2           4.7           1.3          3.2          0.2\n",
       "3           4.6           1.5          3.1          0.2\n",
       "4           5.0           1.4          3.6          0.2"
      ]
     },
     "execution_count": 4,
     "metadata": {},
     "output_type": "execute_result"
    }
   ],
   "source": [
    "# Loading the preprocessed iris dataset\n",
    "file_path = \"Resources/new_iris_data.csv\"\n",
    "df_iris = pd.read_csv(file_path)\n",
    "df_iris.head()"
   ]
  },
  {
   "cell_type": "code",
   "execution_count": 5,
   "id": "a6b9e4b3",
   "metadata": {},
   "outputs": [
    {
     "name": "stdout",
     "output_type": "stream",
     "text": [
      "[[-0.90068117 -1.3412724   1.03205722 -1.31297673]\n",
      " [-1.14301691 -1.3412724  -0.1249576  -1.31297673]\n",
      " [-1.38535265 -1.39813811  0.33784833 -1.31297673]\n",
      " [-1.50652052 -1.2844067   0.10644536 -1.31297673]\n",
      " [-1.02184904 -1.3412724   1.26346019 -1.31297673]]\n"
     ]
    }
   ],
   "source": [
    "# Standardize data with StandardScaler\n",
    "iris_scaled = StandardScaler().fit_transform(df_iris)\n",
    "print(iris_scaled[0:5])"
   ]
  },
  {
   "cell_type": "code",
   "execution_count": 6,
   "id": "6b2ac33e",
   "metadata": {},
   "outputs": [],
   "source": [
    "# Initialize PCA model\n",
    "pca = PCA(n_components=2)"
   ]
  },
  {
   "cell_type": "code",
   "execution_count": 7,
   "id": "36e2cbad",
   "metadata": {},
   "outputs": [],
   "source": [
    "# Get two principal components for the iris data\n",
    "iris_pca = pca.fit_transform(iris_scaled)"
   ]
  },
  {
   "cell_type": "code",
   "execution_count": 8,
   "id": "1594b2a5",
   "metadata": {},
   "outputs": [
    {
     "data": {
      "text/html": [
       "<div>\n",
       "<style scoped>\n",
       "    .dataframe tbody tr th:only-of-type {\n",
       "        vertical-align: middle;\n",
       "    }\n",
       "\n",
       "    .dataframe tbody tr th {\n",
       "        vertical-align: top;\n",
       "    }\n",
       "\n",
       "    .dataframe thead th {\n",
       "        text-align: right;\n",
       "    }\n",
       "</style>\n",
       "<table border=\"1\" class=\"dataframe\">\n",
       "  <thead>\n",
       "    <tr style=\"text-align: right;\">\n",
       "      <th></th>\n",
       "      <th>principal component 1</th>\n",
       "      <th>principal component 2</th>\n",
       "    </tr>\n",
       "  </thead>\n",
       "  <tbody>\n",
       "    <tr>\n",
       "      <th>0</th>\n",
       "      <td>-2.264542</td>\n",
       "      <td>0.505704</td>\n",
       "    </tr>\n",
       "    <tr>\n",
       "      <th>1</th>\n",
       "      <td>-2.086426</td>\n",
       "      <td>-0.655405</td>\n",
       "    </tr>\n",
       "    <tr>\n",
       "      <th>2</th>\n",
       "      <td>-2.367950</td>\n",
       "      <td>-0.318477</td>\n",
       "    </tr>\n",
       "    <tr>\n",
       "      <th>3</th>\n",
       "      <td>-2.304197</td>\n",
       "      <td>-0.575368</td>\n",
       "    </tr>\n",
       "    <tr>\n",
       "      <th>4</th>\n",
       "      <td>-2.388777</td>\n",
       "      <td>0.674767</td>\n",
       "    </tr>\n",
       "  </tbody>\n",
       "</table>\n",
       "</div>"
      ],
      "text/plain": [
       "   principal component 1  principal component 2\n",
       "0              -2.264542               0.505704\n",
       "1              -2.086426              -0.655405\n",
       "2              -2.367950              -0.318477\n",
       "3              -2.304197              -0.575368\n",
       "4              -2.388777               0.674767"
      ]
     },
     "execution_count": 8,
     "metadata": {},
     "output_type": "execute_result"
    }
   ],
   "source": [
    "# Transform PCA data to a DataFrame\n",
    "df_iris_pca = pd.DataFrame(\n",
    "    data=iris_pca, columns=[\"principal component 1\", \"principal component 2\"]\n",
    ")\n",
    "df_iris_pca.head()"
   ]
  },
  {
   "cell_type": "code",
   "execution_count": 9,
   "id": "bebd6994",
   "metadata": {},
   "outputs": [
    {
     "data": {
      "text/plain": [
       "array([0.72770452, 0.23030523])"
      ]
     },
     "execution_count": 9,
     "metadata": {},
     "output_type": "execute_result"
    }
   ],
   "source": [
    "# Fetch the explained variance\n",
    "pca.explained_variance_ratio_"
   ]
  },
  {
   "cell_type": "code",
   "execution_count": 10,
   "id": "fa6bdc06",
   "metadata": {},
   "outputs": [
    {
     "name": "stderr",
     "output_type": "stream",
     "text": [
      "C:\\Users\\jeffs\\anacondaupdated\\envs\\mlenv\\lib\\site-packages\\sklearn\\cluster\\_kmeans.py:882: UserWarning: KMeans is known to have a memory leak on Windows with MKL, when there are less chunks than available threads. You can avoid it by setting the environment variable OMP_NUM_THREADS=1.\n",
      "  f\"KMeans is known to have a memory leak on Windows \"\n"
     ]
    },
    {
     "data": {},
     "metadata": {},
     "output_type": "display_data"
    },
    {
     "data": {
      "application/vnd.holoviews_exec.v0+json": "",
      "text/html": [
       "<div id='1002'>\n",
       "\n",
       "\n",
       "\n",
       "\n",
       "\n",
       "  <div class=\"bk-root\" id=\"d8a561ca-13ef-47e9-acb5-216409ef712b\" data-root-id=\"1002\"></div>\n",
       "</div>\n",
       "<script type=\"application/javascript\">(function(root) {\n",
       "  function embed_document(root) {\n",
       "    var docs_json = {\"f8d462f0-50de-4c7d-8499-86a4039c32c8\":{\"defs\":[{\"extends\":null,\"module\":null,\"name\":\"ReactiveHTML1\",\"overrides\":[],\"properties\":[]},{\"extends\":null,\"module\":null,\"name\":\"FlexBox1\",\"overrides\":[],\"properties\":[{\"default\":\"flex-start\",\"kind\":null,\"name\":\"align_content\"},{\"default\":\"flex-start\",\"kind\":null,\"name\":\"align_items\"},{\"default\":\"row\",\"kind\":null,\"name\":\"flex_direction\"},{\"default\":\"wrap\",\"kind\":null,\"name\":\"flex_wrap\"},{\"default\":\"flex-start\",\"kind\":null,\"name\":\"justify_content\"}]},{\"extends\":null,\"module\":null,\"name\":\"TemplateActions1\",\"overrides\":[],\"properties\":[{\"default\":0,\"kind\":null,\"name\":\"open_modal\"},{\"default\":0,\"kind\":null,\"name\":\"close_modal\"}]},{\"extends\":null,\"module\":null,\"name\":\"MaterialTemplateActions1\",\"overrides\":[],\"properties\":[{\"default\":0,\"kind\":null,\"name\":\"open_modal\"},{\"default\":0,\"kind\":null,\"name\":\"close_modal\"}]}],\"roots\":{\"references\":[{\"attributes\":{},\"id\":\"1021\",\"type\":\"BasicTicker\"},{\"attributes\":{},\"id\":\"1048\",\"type\":\"BasicTickFormatter\"},{\"attributes\":{\"margin\":[5,5,5,5],\"name\":\"HSpacer01631\",\"sizing_mode\":\"stretch_width\"},\"id\":\"1003\",\"type\":\"Spacer\"},{\"attributes\":{\"end\":10.0,\"reset_end\":10.0,\"reset_start\":1.0,\"start\":1.0,\"tags\":[[[\"k\",\"k\",null]]]},\"id\":\"1004\",\"type\":\"Range1d\"},{\"attributes\":{\"axis\":{\"id\":\"1020\"},\"coordinates\":null,\"dimension\":1,\"grid_line_color\":null,\"group\":null,\"ticker\":null},\"id\":\"1023\",\"type\":\"Grid\"},{\"attributes\":{},\"id\":\"1053\",\"type\":\"BasicTickFormatter\"},{\"attributes\":{\"ticks\":[1,2,3,4,5,6,7,8,9,10]},\"id\":\"1046\",\"type\":\"FixedTicker\"},{\"attributes\":{},\"id\":\"1061\",\"type\":\"UnionRenderers\"},{\"attributes\":{\"line_alpha\":0.2,\"line_color\":\"#30a2da\",\"line_width\":2,\"x\":{\"field\":\"k\"},\"y\":{\"field\":\"inertia\"}},\"id\":\"1042\",\"type\":\"Line\"},{\"attributes\":{\"line_color\":\"#30a2da\",\"line_width\":2,\"x\":{\"field\":\"k\"},\"y\":{\"field\":\"inertia\"}},\"id\":\"1045\",\"type\":\"Line\"},{\"attributes\":{},\"id\":\"1038\",\"type\":\"Selection\"},{\"attributes\":{},\"id\":\"1024\",\"type\":\"SaveTool\"},{\"attributes\":{\"end\":629.4448064337398,\"reset_end\":629.4448064337398,\"reset_start\":-26.222644744436852,\"start\":-26.222644744436852,\"tags\":[[[\"inertia\",\"inertia\",null]]]},\"id\":\"1005\",\"type\":\"Range1d\"},{\"attributes\":{\"callback\":null,\"renderers\":[{\"id\":\"1043\"}],\"tags\":[\"hv_created\"],\"tooltips\":[[\"k\",\"@{k}\"],[\"inertia\",\"@{inertia}\"]]},\"id\":\"1006\",\"type\":\"HoverTool\"},{\"attributes\":{},\"id\":\"1025\",\"type\":\"PanTool\"},{\"attributes\":{},\"id\":\"1028\",\"type\":\"ResetTool\"},{\"attributes\":{\"data\":{\"inertia\":{\"__ndarray__\":\"aDafYnL2gUA1bWBmntZoQKmmqsr9Bl1AVPWgT6xnVkDj0qR94pNQQBAzFtg6gkxAMIlQDTvuR0D7MOcNVaJDQOy1b3wwFkBA9y2/QpNqPEA=\",\"dtype\":\"float64\",\"order\":\"little\",\"shape\":[10]},\"k\":[1,2,3,4,5,6,7,8,9,10]},\"selected\":{\"id\":\"1038\"},\"selection_policy\":{\"id\":\"1061\"}},\"id\":\"1037\",\"type\":\"ColumnDataSource\"},{\"attributes\":{},\"id\":\"1026\",\"type\":\"WheelZoomTool\"},{\"attributes\":{\"line_color\":\"#30a2da\",\"line_width\":2,\"x\":{\"field\":\"k\"},\"y\":{\"field\":\"inertia\"}},\"id\":\"1040\",\"type\":\"Line\"},{\"attributes\":{\"overlay\":{\"id\":\"1029\"}},\"id\":\"1027\",\"type\":\"BoxZoomTool\"},{\"attributes\":{\"margin\":[5,5,5,5],\"name\":\"HSpacer01632\",\"sizing_mode\":\"stretch_width\"},\"id\":\"1073\",\"type\":\"Spacer\"},{\"attributes\":{\"line_alpha\":0.1,\"line_color\":\"#30a2da\",\"line_width\":2,\"x\":{\"field\":\"k\"},\"y\":{\"field\":\"inertia\"}},\"id\":\"1041\",\"type\":\"Line\"},{\"attributes\":{\"coordinates\":null,\"group\":null,\"text\":\"Elbow Curve\",\"text_color\":\"black\",\"text_font_size\":\"12pt\"},\"id\":\"1008\",\"type\":\"Title\"},{\"attributes\":{},\"id\":\"1012\",\"type\":\"LinearScale\"},{\"attributes\":{\"axis\":{\"id\":\"1016\"},\"coordinates\":null,\"grid_line_color\":null,\"group\":null,\"ticker\":null},\"id\":\"1019\",\"type\":\"Grid\"},{\"attributes\":{\"tools\":[{\"id\":\"1006\"},{\"id\":\"1024\"},{\"id\":\"1025\"},{\"id\":\"1026\"},{\"id\":\"1027\"},{\"id\":\"1028\"}]},\"id\":\"1030\",\"type\":\"Toolbar\"},{\"attributes\":{},\"id\":\"1049\",\"type\":\"AllLabels\"},{\"attributes\":{\"below\":[{\"id\":\"1016\"}],\"center\":[{\"id\":\"1019\"},{\"id\":\"1023\"}],\"height\":300,\"left\":[{\"id\":\"1020\"}],\"margin\":[5,5,5,5],\"min_border_bottom\":10,\"min_border_left\":10,\"min_border_right\":10,\"min_border_top\":10,\"renderers\":[{\"id\":\"1043\"}],\"sizing_mode\":\"fixed\",\"title\":{\"id\":\"1008\"},\"toolbar\":{\"id\":\"1030\"},\"width\":700,\"x_range\":{\"id\":\"1004\"},\"x_scale\":{\"id\":\"1012\"},\"y_range\":{\"id\":\"1005\"},\"y_scale\":{\"id\":\"1014\"}},\"id\":\"1007\",\"subtype\":\"Figure\",\"type\":\"Plot\"},{\"attributes\":{},\"id\":\"1014\",\"type\":\"LinearScale\"},{\"attributes\":{\"coordinates\":null,\"data_source\":{\"id\":\"1037\"},\"glyph\":{\"id\":\"1040\"},\"group\":null,\"hover_glyph\":null,\"muted_glyph\":{\"id\":\"1042\"},\"nonselection_glyph\":{\"id\":\"1041\"},\"selection_glyph\":{\"id\":\"1045\"},\"view\":{\"id\":\"1044\"}},\"id\":\"1043\",\"type\":\"GlyphRenderer\"},{\"attributes\":{\"children\":[{\"id\":\"1003\"},{\"id\":\"1007\"},{\"id\":\"1073\"}],\"margin\":[0,0,0,0],\"name\":\"Row01627\",\"tags\":[\"embedded\"]},\"id\":\"1002\",\"type\":\"Row\"},{\"attributes\":{\"axis_label\":\"inertia\",\"coordinates\":null,\"formatter\":{\"id\":\"1053\"},\"group\":null,\"major_label_policy\":{\"id\":\"1054\"},\"ticker\":{\"id\":\"1021\"}},\"id\":\"1020\",\"type\":\"LinearAxis\"},{\"attributes\":{\"bottom_units\":\"screen\",\"coordinates\":null,\"fill_alpha\":0.5,\"fill_color\":\"lightgrey\",\"group\":null,\"left_units\":\"screen\",\"level\":\"overlay\",\"line_alpha\":1.0,\"line_color\":\"black\",\"line_dash\":[4,4],\"line_width\":2,\"right_units\":\"screen\",\"syncable\":false,\"top_units\":\"screen\"},\"id\":\"1029\",\"type\":\"BoxAnnotation\"},{\"attributes\":{\"axis_label\":\"k\",\"coordinates\":null,\"formatter\":{\"id\":\"1048\"},\"group\":null,\"major_label_policy\":{\"id\":\"1049\"},\"ticker\":{\"id\":\"1046\"}},\"id\":\"1016\",\"type\":\"LinearAxis\"},{\"attributes\":{\"source\":{\"id\":\"1037\"}},\"id\":\"1044\",\"type\":\"CDSView\"},{\"attributes\":{},\"id\":\"1054\",\"type\":\"AllLabels\"}],\"root_ids\":[\"1002\"]},\"title\":\"Bokeh Application\",\"version\":\"2.4.1\"}};\n",
       "    var render_items = [{\"docid\":\"f8d462f0-50de-4c7d-8499-86a4039c32c8\",\"root_ids\":[\"1002\"],\"roots\":{\"1002\":\"d8a561ca-13ef-47e9-acb5-216409ef712b\"}}];\n",
       "    root.Bokeh.embed.embed_items_notebook(docs_json, render_items);\n",
       "  }\n",
       "  if (root.Bokeh !== undefined && root.Bokeh.Panel !== undefined) {\n",
       "    embed_document(root);\n",
       "  } else {\n",
       "    var attempts = 0;\n",
       "    var timer = setInterval(function(root) {\n",
       "      if (root.Bokeh !== undefined && root.Bokeh.Panel !== undefined) {\n",
       "        clearInterval(timer);\n",
       "        embed_document(root);\n",
       "      } else if (document.readyState == \"complete\") {\n",
       "        attempts++;\n",
       "        if (attempts > 200) {\n",
       "          clearInterval(timer);\n",
       "          console.log(\"Bokeh: ERROR: Unable to run BokehJS code because BokehJS library is missing\");\n",
       "        }\n",
       "      }\n",
       "    }, 25, root)\n",
       "  }\n",
       "})(window);</script>"
      ],
      "text/plain": [
       ":Curve   [k]   (inertia)"
      ]
     },
     "execution_count": 10,
     "metadata": {
      "application/vnd.holoviews_exec.v0+json": {
       "id": "1002"
      }
     },
     "output_type": "execute_result"
    }
   ],
   "source": [
    "# Find the best value for K\n",
    "inertia = []\n",
    "k = list(range(1, 11))\n",
    "\n",
    "# Calculate the inertia for the range of K values\n",
    "for i in k:\n",
    "    km = KMeans(n_clusters=i, random_state=0)\n",
    "    km.fit(df_iris_pca)\n",
    "    inertia.append(km.inertia_)\n",
    "    \n",
    "# Create the elbow curve\n",
    "elbow_data = {\"k\": k, \"inertia\": inertia}\n",
    "df_elbow = pd.DataFrame(elbow_data)\n",
    "df_elbow.hvplot.line(x=\"k\", y=\"inertia\", xticks=k, title=\"Elbow Curve\")"
   ]
  },
  {
   "cell_type": "code",
   "execution_count": 11,
   "id": "0114e455",
   "metadata": {},
   "outputs": [
    {
     "data": {
      "text/html": [
       "<div>\n",
       "<style scoped>\n",
       "    .dataframe tbody tr th:only-of-type {\n",
       "        vertical-align: middle;\n",
       "    }\n",
       "\n",
       "    .dataframe tbody tr th {\n",
       "        vertical-align: top;\n",
       "    }\n",
       "\n",
       "    .dataframe thead th {\n",
       "        text-align: right;\n",
       "    }\n",
       "</style>\n",
       "<table border=\"1\" class=\"dataframe\">\n",
       "  <thead>\n",
       "    <tr style=\"text-align: right;\">\n",
       "      <th></th>\n",
       "      <th>principal component 1</th>\n",
       "      <th>principal component 2</th>\n",
       "      <th>class</th>\n",
       "    </tr>\n",
       "  </thead>\n",
       "  <tbody>\n",
       "    <tr>\n",
       "      <th>0</th>\n",
       "      <td>-2.264542</td>\n",
       "      <td>0.505704</td>\n",
       "      <td>0</td>\n",
       "    </tr>\n",
       "    <tr>\n",
       "      <th>1</th>\n",
       "      <td>-2.086426</td>\n",
       "      <td>-0.655405</td>\n",
       "      <td>0</td>\n",
       "    </tr>\n",
       "    <tr>\n",
       "      <th>2</th>\n",
       "      <td>-2.367950</td>\n",
       "      <td>-0.318477</td>\n",
       "      <td>0</td>\n",
       "    </tr>\n",
       "    <tr>\n",
       "      <th>3</th>\n",
       "      <td>-2.304197</td>\n",
       "      <td>-0.575368</td>\n",
       "      <td>0</td>\n",
       "    </tr>\n",
       "    <tr>\n",
       "      <th>4</th>\n",
       "      <td>-2.388777</td>\n",
       "      <td>0.674767</td>\n",
       "      <td>0</td>\n",
       "    </tr>\n",
       "  </tbody>\n",
       "</table>\n",
       "</div>"
      ],
      "text/plain": [
       "   principal component 1  principal component 2  class\n",
       "0              -2.264542               0.505704      0\n",
       "1              -2.086426              -0.655405      0\n",
       "2              -2.367950              -0.318477      0\n",
       "3              -2.304197              -0.575368      0\n",
       "4              -2.388777               0.674767      0"
      ]
     },
     "execution_count": 11,
     "metadata": {},
     "output_type": "execute_result"
    }
   ],
   "source": [
    "# Initialize the K-means model\n",
    "model = KMeans(n_clusters=3, random_state=0)\n",
    "\n",
    "# Fit the model\n",
    "model.fit(df_iris_pca)\n",
    "\n",
    "# Predict clusters\n",
    "predictions = model.predict(df_iris_pca)\n",
    "\n",
    "# Add the predicted class columns\n",
    "df_iris_pca[\"class\"] = model.labels_\n",
    "df_iris_pca.head()"
   ]
  },
  {
   "cell_type": "code",
   "execution_count": 14,
   "id": "4c5e3d1e",
   "metadata": {},
   "outputs": [
    {
     "data": {},
     "metadata": {},
     "output_type": "display_data"
    },
    {
     "data": {
      "application/vnd.holoviews_exec.v0+json": "",
      "text/html": [
       "<div id='1428'>\n",
       "\n",
       "\n",
       "\n",
       "\n",
       "\n",
       "  <div class=\"bk-root\" id=\"b942ef3a-8d52-431f-b772-e69c85ea5e7b\" data-root-id=\"1428\"></div>\n",
       "</div>\n",
       "<script type=\"application/javascript\">(function(root) {\n",
       "  function embed_document(root) {\n",
       "    var docs_json = {\"6921ff10-f769-40f0-9bf0-d611cbb31dbd\":{\"defs\":[{\"extends\":null,\"module\":null,\"name\":\"ReactiveHTML1\",\"overrides\":[],\"properties\":[]},{\"extends\":null,\"module\":null,\"name\":\"FlexBox1\",\"overrides\":[],\"properties\":[{\"default\":\"flex-start\",\"kind\":null,\"name\":\"align_content\"},{\"default\":\"flex-start\",\"kind\":null,\"name\":\"align_items\"},{\"default\":\"row\",\"kind\":null,\"name\":\"flex_direction\"},{\"default\":\"wrap\",\"kind\":null,\"name\":\"flex_wrap\"},{\"default\":\"flex-start\",\"kind\":null,\"name\":\"justify_content\"}]},{\"extends\":null,\"module\":null,\"name\":\"TemplateActions1\",\"overrides\":[],\"properties\":[{\"default\":0,\"kind\":null,\"name\":\"open_modal\"},{\"default\":0,\"kind\":null,\"name\":\"close_modal\"}]},{\"extends\":null,\"module\":null,\"name\":\"MaterialTemplateActions1\",\"overrides\":[],\"properties\":[{\"default\":0,\"kind\":null,\"name\":\"open_modal\"},{\"default\":0,\"kind\":null,\"name\":\"close_modal\"}]}],\"roots\":{\"references\":[{\"attributes\":{\"bottom_units\":\"screen\",\"coordinates\":null,\"fill_alpha\":0.5,\"fill_color\":\"lightgrey\",\"group\":null,\"left_units\":\"screen\",\"level\":\"overlay\",\"line_alpha\":1.0,\"line_color\":\"black\",\"line_dash\":[4,4],\"line_width\":2,\"right_units\":\"screen\",\"syncable\":false,\"top_units\":\"screen\"},\"id\":\"1457\",\"type\":\"BoxAnnotation\"},{\"attributes\":{\"data\":{\"class\":{\"__ndarray__\":\"AQAAAAEAAAABAAAAAQAAAAEAAAABAAAAAQAAAAEAAAABAAAAAQAAAAEAAAABAAAAAQAAAAEAAAABAAAAAQAAAAEAAAABAAAAAQAAAAEAAAABAAAAAQAAAAEAAAABAAAAAQAAAAEAAAABAAAAAQAAAAEAAAABAAAAAQAAAAEAAAABAAAAAQAAAAEAAAABAAAAAQAAAAEAAAABAAAAAQAAAAEAAAABAAAAAQAAAAEAAAABAAAAAQAAAAEAAAABAAAAAQAAAAEAAAABAAAAAQAAAAEAAAA=\",\"dtype\":\"int32\",\"order\":\"little\",\"shape\":[53]},\"principal component 1\":{\"__ndarray__\":\"ghWMhntt2T9JnJZFWCnxP2uBHlf2mtg/6f4dZv7c379tGywXnaPtPyPDkDZaWXQ/xd2FPizsv7+xz+h8JxTcP1dNsk78puE/OUUqJwTz5j+jz63ghxOjv5xu06S8RdY/37Iv7V2iwz9n6iTH4XHzPzTYZACmFsQ/WK1SDE473j8RyjX41qXzP4sxy7fjI+Q/G9CK7kVq5j8fhVUnIzDlP8ob1FJINai/WD98rN0cvz+JkFg5BOqMPx/f6GWaNc4/D81ZRTXo8D+zsJMoZVfMP9Cbvwf1kvA/vF4TnFcrsT97NwN1kKDRP819yQ7wbdE/pY3+VwPx4z+23kvRzh7VP7/EFNWD6de/2STllsIb0j83X21EL8y2PwckQhu5t8w/8wRG5kBd4j/cjFDrsj/dv+KA0gDGJNA/4F8IKHdz8j8Cokp+m+/WP1335HGkDPQ/HeKIxsts9z/9RPpdThD0P5JitwdQKu8/9YqkmmBE9T9jfP3wHsDyP9/2a9zEx/E/KTazatUo8z+ZvvFQw4ztP+BfCCh3c/I/StVbMZXv+D872SvtkrLuPw==\",\"dtype\":\"float64\",\"order\":\"little\",\"shape\":[53]},\"principal component 2\":{\"__ndarray__\":\"k80hw3Uh/L+NAFcJ4hrLv/AVlNb76eK/ZpSza/eU/b/3i2FUCw+fP+jLA01tePC/94KEXbZDBcCp9gYTsCWuv0vNqHx+XPy/1nstxk+8x78yLLY26rLbvwi+JkVKZsi/lYnUeJ9N6b9l5T6HOSL6v75Ai9CC2fS/uQipiLWp2r9Jr8dW+Rvuv+fFU70Krdq/EjfCViNBsL9fGdg+X7fMv2oFEZBX6vC/bcJ8cXkE+b9u1i92nSz5v0SekB1e1Oi/Di0SzX5h5L94bj2aaPnRv72Ls++KR/a/icdo/yc3y79AZwsN7Ub1vycJ/oM76fG//MUd1SI0nD9r68QlE6Xvv9DC5Ku5JADApEs7dJBT67+ojkY+Z2PGv072R1TcWdi/gTq1mhitw7+3+86JpaH4v6d6HI5KEeO/SwhbdkNx5r8/lg29Jfb4v5IxaImirfK/qK9g7els3L9SKnQyOXv7v0PNWXwPR+K/RGwdsBUn37/E2YlbzWjUv/uTgLFv8dK/TK/b9jwm6r+EAFtSILGTP0sIW3ZDcea/w1rVOlT47L8UCiw2mtGWvw==\",\"dtype\":\"float64\",\"order\":\"little\",\"shape\":[53]},\"principal_component_1\":{\"__ndarray__\":\"ghWMhntt2T9JnJZFWCnxP2uBHlf2mtg/6f4dZv7c379tGywXnaPtPyPDkDZaWXQ/xd2FPizsv7+xz+h8JxTcP1dNsk78puE/OUUqJwTz5j+jz63ghxOjv5xu06S8RdY/37Iv7V2iwz9n6iTH4XHzPzTYZACmFsQ/WK1SDE473j8RyjX41qXzP4sxy7fjI+Q/G9CK7kVq5j8fhVUnIzDlP8ob1FJINai/WD98rN0cvz+JkFg5BOqMPx/f6GWaNc4/D81ZRTXo8D+zsJMoZVfMP9Cbvwf1kvA/vF4TnFcrsT97NwN1kKDRP819yQ7wbdE/pY3+VwPx4z+23kvRzh7VP7/EFNWD6de/2STllsIb0j83X21EL8y2PwckQhu5t8w/8wRG5kBd4j/cjFDrsj/dv+KA0gDGJNA/4F8IKHdz8j8Cokp+m+/WP1335HGkDPQ/HeKIxsts9z/9RPpdThD0P5JitwdQKu8/9YqkmmBE9T9jfP3wHsDyP9/2a9zEx/E/KTazatUo8z+ZvvFQw4ztP+BfCCh3c/I/StVbMZXv+D872SvtkrLuPw==\",\"dtype\":\"float64\",\"order\":\"little\",\"shape\":[53]},\"principal_component_2\":{\"__ndarray__\":\"k80hw3Uh/L+NAFcJ4hrLv/AVlNb76eK/ZpSza/eU/b/3i2FUCw+fP+jLA01tePC/94KEXbZDBcCp9gYTsCWuv0vNqHx+XPy/1nstxk+8x78yLLY26rLbvwi+JkVKZsi/lYnUeJ9N6b9l5T6HOSL6v75Ai9CC2fS/uQipiLWp2r9Jr8dW+Rvuv+fFU70Krdq/EjfCViNBsL9fGdg+X7fMv2oFEZBX6vC/bcJ8cXkE+b9u1i92nSz5v0SekB1e1Oi/Di0SzX5h5L94bj2aaPnRv72Ls++KR/a/icdo/yc3y79AZwsN7Ub1vycJ/oM76fG//MUd1SI0nD9r68QlE6Xvv9DC5Ku5JADApEs7dJBT67+ojkY+Z2PGv072R1TcWdi/gTq1mhitw7+3+86JpaH4v6d6HI5KEeO/SwhbdkNx5r8/lg29Jfb4v5IxaImirfK/qK9g7els3L9SKnQyOXv7v0PNWXwPR+K/RGwdsBUn37/E2YlbzWjUv/uTgLFv8dK/TK/b9jwm6r+EAFtSILGTP0sIW3ZDcea/w1rVOlT47L8UCiw2mtGWvw==\",\"dtype\":\"float64\",\"order\":\"little\",\"shape\":[53]}},\"selected\":{\"id\":\"1493\"},\"selection_policy\":{\"id\":\"1509\"}},\"id\":\"1492\",\"type\":\"ColumnDataSource\"},{\"attributes\":{\"fill_color\":{\"value\":\"#e5ae38\"},\"hatch_color\":{\"value\":\"#e5ae38\"},\"line_color\":{\"value\":\"#e5ae38\"},\"size\":{\"value\":5.477225575051661},\"x\":{\"field\":\"principal component 1\"},\"y\":{\"field\":\"principal component 2\"}},\"id\":\"1517\",\"type\":\"Scatter\"},{\"attributes\":{},\"id\":\"1452\",\"type\":\"SaveTool\"},{\"attributes\":{},\"id\":\"1509\",\"type\":\"UnionRenderers\"},{\"attributes\":{},\"id\":\"1440\",\"type\":\"LinearScale\"},{\"attributes\":{},\"id\":\"1453\",\"type\":\"PanTool\"},{\"attributes\":{\"label\":{\"value\":\"2\"},\"renderers\":[{\"id\":\"1520\"}]},\"id\":\"1536\",\"type\":\"LegendItem\"},{\"attributes\":{\"data\":{\"class\":{\"__ndarray__\":\"AgAAAAIAAAACAAAAAgAAAAIAAAACAAAAAgAAAAIAAAACAAAAAgAAAAIAAAACAAAAAgAAAAIAAAACAAAAAgAAAAIAAAACAAAAAgAAAAIAAAACAAAAAgAAAAIAAAACAAAAAgAAAAIAAAACAAAAAgAAAAIAAAACAAAAAgAAAAIAAAACAAAAAgAAAAIAAAACAAAAAgAAAAIAAAACAAAAAgAAAAIAAAACAAAAAgAAAAIAAAACAAAAAgAAAAIAAAA=\",\"dtype\":\"int32\",\"order\":\"little\",\"shape\":[47]},\"principal component 1\":{\"__ndarray__\":\"cZicP/Wp8T/ndLjqfHDnP0dUdjeu3/M/j32nUXn15z94t9eWSwfsPwbqCkTLn+c/YokX1wP06z/pYaNJSxH0PxRwyrRZu/U/YSqW1lWi2z+iboqoZcrwP2JoZCMRkP0/XKOtkJqmAUCvkwP82gT3P8Sof1zh4v0/cEK5SJgIBkDlZzhbjmwCQPUm68uNAwBAIU9oqvMjAkBti3vYw9r1P60QOb/Elfk/Oa6UReUl/j8a0QQIDXj5P3kdkBhdivc/P/YnSsB/A0AxhisDH3kKQJbn9rPvUgBANi4taDwvB0BAqLnnkUT7P6UJnj3aUv8/H9Lu7wVR8D+f2hYHfpP8P30bVl0h1v0/ifhsDuZ7A0AwtjE3VocCQGstB9QUxP0/jU42KVhoBkCz+a/eUEj5P+/OTXR+jfU/OwUQICao/T8NDMQGFyEAQLhqwqkqc/4/OQ5TGLJYAEC5eb2NdgMAQPDgNY2o7f0/94JComFV+D8P9OTEsgX2Pw==\",\"dtype\":\"float64\",\"order\":\"little\",\"shape\":[47]},\"principal component 2\":{\"__ndarray__\":\"2Hb2/Z2e6z8cPDfKBSjjP9nNPSGgrOM/t1+rWRnr6D9iOXqk51HgP5dBqiETwtk/W57yIJwL0D8OiLBClya1v0MteShkC9U/Egg+Gkhd6z/Bk6QJ17XgP4ksy2Xw5Os/C8TpFji+4T93lDOr+pqpv/hEGSLnotI/owetLdY66T9TO0mDhTXaP7KQnq/nKee/wo2XATu+/j83oQKF0jTmP2l9L85taNu/dKdDi22E2j81fGgVRqrlPzg3rDJONNA/gzlsMT10BEDLiaQTDFhjv0R0hSJpCe0/bpKR42l12T+TWt+y8znwP56AK36oDfA/gKj7cmzHsD/fvEvBKb3Iv5LkXX2vxeE/017ipF+Szz8m4TWwbAIFQIeBO1NYo8e/Sis1XS0I6z+oj2oE2yjxPyT8A+M9Bts/v6TAq3yE5T/d+zteX4jjP+N2Ilnq8+U/wCJfoH+r6z8/eOdp3MbwP/9DMiongNg/f9tvjSkT0T8hLdG5BEPwPw==\",\"dtype\":\"float64\",\"order\":\"little\",\"shape\":[47]},\"principal_component_1\":{\"__ndarray__\":\"cZicP/Wp8T/ndLjqfHDnP0dUdjeu3/M/j32nUXn15z94t9eWSwfsPwbqCkTLn+c/YokX1wP06z/pYaNJSxH0PxRwyrRZu/U/YSqW1lWi2z+iboqoZcrwP2JoZCMRkP0/XKOtkJqmAUCvkwP82gT3P8Sof1zh4v0/cEK5SJgIBkDlZzhbjmwCQPUm68uNAwBAIU9oqvMjAkBti3vYw9r1P60QOb/Elfk/Oa6UReUl/j8a0QQIDXj5P3kdkBhdivc/P/YnSsB/A0AxhisDH3kKQJbn9rPvUgBANi4taDwvB0BAqLnnkUT7P6UJnj3aUv8/H9Lu7wVR8D+f2hYHfpP8P30bVl0h1v0/ifhsDuZ7A0AwtjE3VocCQGstB9QUxP0/jU42KVhoBkCz+a/eUEj5P+/OTXR+jfU/OwUQICao/T8NDMQGFyEAQLhqwqkqc/4/OQ5TGLJYAEC5eb2NdgMAQPDgNY2o7f0/94JComFV+D8P9OTEsgX2Pw==\",\"dtype\":\"float64\",\"order\":\"little\",\"shape\":[47]},\"principal_component_2\":{\"__ndarray__\":\"2Hb2/Z2e6z8cPDfKBSjjP9nNPSGgrOM/t1+rWRnr6D9iOXqk51HgP5dBqiETwtk/W57yIJwL0D8OiLBClya1v0MteShkC9U/Egg+Gkhd6z/Bk6QJ17XgP4ksy2Xw5Os/C8TpFji+4T93lDOr+pqpv/hEGSLnotI/owetLdY66T9TO0mDhTXaP7KQnq/nKee/wo2XATu+/j83oQKF0jTmP2l9L85taNu/dKdDi22E2j81fGgVRqrlPzg3rDJONNA/gzlsMT10BEDLiaQTDFhjv0R0hSJpCe0/bpKR42l12T+TWt+y8znwP56AK36oDfA/gKj7cmzHsD/fvEvBKb3Iv5LkXX2vxeE/017ipF+Szz8m4TWwbAIFQIeBO1NYo8e/Sis1XS0I6z+oj2oE2yjxPyT8A+M9Bts/v6TAq3yE5T/d+zteX4jjP+N2Ilnq8+U/wCJfoH+r6z8/eOdp3MbwP/9DMiongNg/f9tvjSkT0T8hLdG5BEPwPw==\",\"dtype\":\"float64\",\"order\":\"little\",\"shape\":[47]}},\"selected\":{\"id\":\"1515\"},\"selection_policy\":{\"id\":\"1533\"}},\"id\":\"1514\",\"type\":\"ColumnDataSource\"},{\"attributes\":{\"fill_alpha\":{\"value\":0.1},\"fill_color\":{\"value\":\"#e5ae38\"},\"hatch_alpha\":{\"value\":0.1},\"hatch_color\":{\"value\":\"#e5ae38\"},\"line_alpha\":{\"value\":0.1},\"line_color\":{\"value\":\"#e5ae38\"},\"size\":{\"value\":5.477225575051661},\"x\":{\"field\":\"principal component 1\"},\"y\":{\"field\":\"principal component 2\"}},\"id\":\"1518\",\"type\":\"Scatter\"},{\"attributes\":{\"fill_alpha\":{\"value\":0.2},\"fill_color\":{\"value\":\"#e5ae38\"},\"hatch_alpha\":{\"value\":0.2},\"hatch_color\":{\"value\":\"#e5ae38\"},\"line_alpha\":{\"value\":0.2},\"line_color\":{\"value\":\"#e5ae38\"},\"size\":{\"value\":5.477225575051661},\"x\":{\"field\":\"principal component 1\"},\"y\":{\"field\":\"principal component 2\"}},\"id\":\"1519\",\"type\":\"Scatter\"},{\"attributes\":{},\"id\":\"1456\",\"type\":\"ResetTool\"},{\"attributes\":{\"coordinates\":null,\"data_source\":{\"id\":\"1514\"},\"glyph\":{\"id\":\"1517\"},\"group\":null,\"hover_glyph\":null,\"muted_glyph\":{\"id\":\"1519\"},\"nonselection_glyph\":{\"id\":\"1518\"},\"selection_glyph\":{\"id\":\"1537\"},\"view\":{\"id\":\"1521\"}},\"id\":\"1520\",\"type\":\"GlyphRenderer\"},{\"attributes\":{},\"id\":\"1454\",\"type\":\"WheelZoomTool\"},{\"attributes\":{},\"id\":\"1472\",\"type\":\"Selection\"},{\"attributes\":{\"source\":{\"id\":\"1492\"}},\"id\":\"1499\",\"type\":\"CDSView\"},{\"attributes\":{\"angle\":{\"value\":0.0},\"fill_alpha\":{\"value\":1.0},\"fill_color\":{\"value\":\"#fc4f30\"},\"hatch_alpha\":{\"value\":1.0},\"hatch_color\":{\"value\":\"#fc4f30\"},\"hatch_scale\":{\"value\":12.0},\"hatch_weight\":{\"value\":1.0},\"line_alpha\":{\"value\":1.0},\"line_cap\":{\"value\":\"butt\"},\"line_color\":{\"value\":\"#fc4f30\"},\"line_dash\":{\"value\":[]},\"line_dash_offset\":{\"value\":0},\"line_join\":{\"value\":\"bevel\"},\"line_width\":{\"value\":1},\"marker\":{\"value\":\"circle\"},\"size\":{\"value\":5.477225575051661},\"x\":{\"field\":\"principal component 1\"},\"y\":{\"field\":\"principal component 2\"}},\"id\":\"1513\",\"type\":\"Scatter\"},{\"attributes\":{\"label\":{\"value\":\"0\"},\"renderers\":[{\"id\":\"1477\"}]},\"id\":\"1490\",\"type\":\"LegendItem\"},{\"attributes\":{\"overlay\":{\"id\":\"1457\"}},\"id\":\"1455\",\"type\":\"BoxZoomTool\"},{\"attributes\":{\"end\":3.5698545102352752,\"reset_end\":3.5698545102352752,\"reset_start\":-3.034883121264353,\"start\":-3.034883121264353,\"tags\":[[[\"principal component 1\",\"principal component 1\",null]]]},\"id\":\"1430\",\"type\":\"Range1d\"},{\"attributes\":{},\"id\":\"1533\",\"type\":\"UnionRenderers\"},{\"attributes\":{},\"id\":\"1486\",\"type\":\"UnionRenderers\"},{\"attributes\":{\"fill_alpha\":{\"value\":0.2},\"fill_color\":{\"value\":\"#fc4f30\"},\"hatch_alpha\":{\"value\":0.2},\"hatch_color\":{\"value\":\"#fc4f30\"},\"line_alpha\":{\"value\":0.2},\"line_color\":{\"value\":\"#fc4f30\"},\"size\":{\"value\":5.477225575051661},\"x\":{\"field\":\"principal component 1\"},\"y\":{\"field\":\"principal component 2\"}},\"id\":\"1497\",\"type\":\"Scatter\"},{\"attributes\":{\"source\":{\"id\":\"1514\"}},\"id\":\"1521\",\"type\":\"CDSView\"},{\"attributes\":{},\"id\":\"1449\",\"type\":\"BasicTicker\"},{\"attributes\":{},\"id\":\"1515\",\"type\":\"Selection\"},{\"attributes\":{\"below\":[{\"id\":\"1444\"}],\"center\":[{\"id\":\"1447\"},{\"id\":\"1451\"}],\"height\":300,\"left\":[{\"id\":\"1448\"}],\"margin\":[5,5,5,5],\"min_border_bottom\":10,\"min_border_left\":10,\"min_border_right\":10,\"min_border_top\":10,\"renderers\":[{\"id\":\"1477\"},{\"id\":\"1498\"},{\"id\":\"1520\"}],\"right\":[{\"id\":\"1489\"}],\"sizing_mode\":\"fixed\",\"title\":{\"id\":\"1436\"},\"toolbar\":{\"id\":\"1458\"},\"width\":700,\"x_range\":{\"id\":\"1430\"},\"x_scale\":{\"id\":\"1440\"},\"y_range\":{\"id\":\"1431\"},\"y_scale\":{\"id\":\"1442\"}},\"id\":\"1435\",\"subtype\":\"Figure\",\"type\":\"Plot\"},{\"attributes\":{\"coordinates\":null,\"group\":null,\"text_color\":\"black\",\"text_font_size\":\"12pt\"},\"id\":\"1436\",\"type\":\"Title\"},{\"attributes\":{},\"id\":\"1445\",\"type\":\"BasicTicker\"},{\"attributes\":{\"fill_alpha\":{\"value\":0.1},\"fill_color\":{\"value\":\"#fc4f30\"},\"hatch_alpha\":{\"value\":0.1},\"hatch_color\":{\"value\":\"#fc4f30\"},\"line_alpha\":{\"value\":0.1},\"line_color\":{\"value\":\"#fc4f30\"},\"size\":{\"value\":5.477225575051661},\"x\":{\"field\":\"principal component 1\"},\"y\":{\"field\":\"principal component 2\"}},\"id\":\"1496\",\"type\":\"Scatter\"},{\"attributes\":{\"coordinates\":null,\"data_source\":{\"id\":\"1471\"},\"glyph\":{\"id\":\"1474\"},\"group\":null,\"hover_glyph\":null,\"muted_glyph\":{\"id\":\"1476\"},\"nonselection_glyph\":{\"id\":\"1475\"},\"selection_glyph\":{\"id\":\"1491\"},\"view\":{\"id\":\"1478\"}},\"id\":\"1477\",\"type\":\"GlyphRenderer\"},{\"attributes\":{\"axis\":{\"id\":\"1444\"},\"coordinates\":null,\"grid_line_color\":null,\"group\":null,\"ticker\":null},\"id\":\"1447\",\"type\":\"Grid\"},{\"attributes\":{\"fill_color\":{\"value\":\"#30a2da\"},\"hatch_color\":{\"value\":\"#30a2da\"},\"line_color\":{\"value\":\"#30a2da\"},\"size\":{\"value\":5.477225575051661},\"x\":{\"field\":\"principal component 1\"},\"y\":{\"field\":\"principal component 2\"}},\"id\":\"1474\",\"type\":\"Scatter\"},{\"attributes\":{\"tools\":[{\"id\":\"1432\"},{\"id\":\"1452\"},{\"id\":\"1453\"},{\"id\":\"1454\"},{\"id\":\"1455\"},{\"id\":\"1456\"}]},\"id\":\"1458\",\"type\":\"Toolbar\"},{\"attributes\":{\"fill_alpha\":{\"value\":0.2},\"fill_color\":{\"value\":\"#30a2da\"},\"hatch_alpha\":{\"value\":0.2},\"hatch_color\":{\"value\":\"#30a2da\"},\"line_alpha\":{\"value\":0.2},\"line_color\":{\"value\":\"#30a2da\"},\"size\":{\"value\":5.477225575051661},\"x\":{\"field\":\"principal component 1\"},\"y\":{\"field\":\"principal component 2\"}},\"id\":\"1476\",\"type\":\"Scatter\"},{\"attributes\":{},\"id\":\"1442\",\"type\":\"LinearScale\"},{\"attributes\":{\"coordinates\":null,\"data_source\":{\"id\":\"1492\"},\"glyph\":{\"id\":\"1495\"},\"group\":null,\"hover_glyph\":null,\"muted_glyph\":{\"id\":\"1497\"},\"nonselection_glyph\":{\"id\":\"1496\"},\"selection_glyph\":{\"id\":\"1513\"},\"view\":{\"id\":\"1499\"}},\"id\":\"1498\",\"type\":\"GlyphRenderer\"},{\"attributes\":{\"end\":3.260414452028092,\"reset_end\":3.260414452028092,\"reset_start\":-3.1961060534153853,\"start\":-3.1961060534153853,\"tags\":[[[\"principal component 2\",\"principal component 2\",null]]]},\"id\":\"1431\",\"type\":\"Range1d\"},{\"attributes\":{\"axis_label\":\"principal component 2\",\"coordinates\":null,\"formatter\":{\"id\":\"1469\"},\"group\":null,\"major_label_policy\":{\"id\":\"1470\"},\"ticker\":{\"id\":\"1449\"}},\"id\":\"1448\",\"type\":\"LinearAxis\"},{\"attributes\":{\"children\":[{\"id\":\"1429\"},{\"id\":\"1435\"},{\"id\":\"1664\"}],\"margin\":[0,0,0,0],\"name\":\"Row02612\",\"tags\":[\"embedded\"]},\"id\":\"1428\",\"type\":\"Row\"},{\"attributes\":{\"axis_label\":\"principal component 1\",\"coordinates\":null,\"formatter\":{\"id\":\"1466\"},\"group\":null,\"major_label_policy\":{\"id\":\"1467\"},\"ticker\":{\"id\":\"1445\"}},\"id\":\"1444\",\"type\":\"LinearAxis\"},{\"attributes\":{\"source\":{\"id\":\"1471\"}},\"id\":\"1478\",\"type\":\"CDSView\"},{\"attributes\":{},\"id\":\"1467\",\"type\":\"AllLabels\"},{\"attributes\":{\"callback\":null,\"renderers\":[{\"id\":\"1477\"},{\"id\":\"1498\"},{\"id\":\"1520\"}],\"tags\":[\"hv_created\"],\"tooltips\":[[\"class\",\"@{class}\"],[\"principal component 1\",\"@{principal_component_1}\"],[\"principal component 2\",\"@{principal_component_2}\"]]},\"id\":\"1432\",\"type\":\"HoverTool\"},{\"attributes\":{\"label\":{\"value\":\"1\"},\"renderers\":[{\"id\":\"1498\"}]},\"id\":\"1512\",\"type\":\"LegendItem\"},{\"attributes\":{\"axis\":{\"id\":\"1448\"},\"coordinates\":null,\"dimension\":1,\"grid_line_color\":null,\"group\":null,\"ticker\":null},\"id\":\"1451\",\"type\":\"Grid\"},{\"attributes\":{\"click_policy\":\"mute\",\"coordinates\":null,\"group\":null,\"items\":[{\"id\":\"1490\"},{\"id\":\"1512\"},{\"id\":\"1536\"}],\"location\":[0,0],\"title\":\"class\"},\"id\":\"1489\",\"type\":\"Legend\"},{\"attributes\":{},\"id\":\"1469\",\"type\":\"BasicTickFormatter\"},{\"attributes\":{\"margin\":[5,5,5,5],\"name\":\"HSpacer02616\",\"sizing_mode\":\"stretch_width\"},\"id\":\"1429\",\"type\":\"Spacer\"},{\"attributes\":{},\"id\":\"1493\",\"type\":\"Selection\"},{\"attributes\":{\"margin\":[5,5,5,5],\"name\":\"HSpacer02617\",\"sizing_mode\":\"stretch_width\"},\"id\":\"1664\",\"type\":\"Spacer\"},{\"attributes\":{\"fill_color\":{\"value\":\"#fc4f30\"},\"hatch_color\":{\"value\":\"#fc4f30\"},\"line_color\":{\"value\":\"#fc4f30\"},\"size\":{\"value\":5.477225575051661},\"x\":{\"field\":\"principal component 1\"},\"y\":{\"field\":\"principal component 2\"}},\"id\":\"1495\",\"type\":\"Scatter\"},{\"attributes\":{\"data\":{\"class\":{\"__ndarray__\":\"AAAAAAAAAAAAAAAAAAAAAAAAAAAAAAAAAAAAAAAAAAAAAAAAAAAAAAAAAAAAAAAAAAAAAAAAAAAAAAAAAAAAAAAAAAAAAAAAAAAAAAAAAAAAAAAAAAAAAAAAAAAAAAAAAAAAAAAAAAAAAAAAAAAAAAAAAAAAAAAAAAAAAAAAAAAAAAAAAAAAAAAAAAAAAAAAAAAAAAAAAAAAAAAAAAAAAAAAAAAAAAAAAAAAAAAAAAAAAAAAAAAAAAAAAAAAAAAAAAAAAAAAAAA=\",\"dtype\":\"int32\",\"order\":\"little\",\"shape\":[50]},\"principal component 1\":{\"__ndarray__\":\"PRG/DcgdAsChflXa/7AAwDAtSgGQ8QLArHjV6/5uAsB+OOBfNxwDwLMJAJp1kADA61hZG9GQA8C5vPx66N4BwLnvZ05UvALA49Uzb2iCAcDIACQK0k4BwH+PWzp4ngLAbUHW4evKAcBxYBiPIx4FwOJkYiHQiQHA78LFMQADAsDDicmkO58BwNTnRqd8hQHAFLKL2CBO/r9wMd43N7gCwDou6+IFov6/KnpNIB2jAcAkHszufzEGwHOyHOBnIP2/c29EsmPTAcBnStBn+E//v+gJWiugagDA0BcE6nVYAcD06Z27WB8BwCMNM3l7JgLA3+URJwwoAcCzCNRTnk/9v3iUD3eZ3QTAyIxIYeyAA8Dj1TNvaIIBwAbB4qBfsAHAqgtPDPdaAMDj1TNvaIIBwJ7dMoLUfAPAVSP02UddAcA84QHLzkoCwF9zDEaD8v2/X/lj5HF2BMD6iQQfsG3/v/qHnMYlEQHAoe7lFFWaAMDT+qMb0QwDwJFmoB9/LwPALZosq3LQAcDdjpZMy6UBwA==\",\"dtype\":\"float64\",\"order\":\"little\",\"shape\":[50]},\"principal component 2\":{\"__ndarray__\":\"YO9787ku4D/xF8lWE/nkv3bYpqjuYdS/EiSQjGlp4r/P0afLsZflP7m+IZP5S/g/MiSoGooWsz9veXQ10LHPP88IOjG4hfG/kU6pnFa23L9nMKXTKCHxPym/qP2XTMQ/qao3kBix5r+LiXLvZwbuv9eryBtaPf4/krWrfGrHBUBejF03Ujj4PzP+/04udeA/8kk0V9Tl9j8opZIPTofyP2TAlsG9jNs/2vKSxId67j8/u+o4P1TfPwzWDBwFVLs/SO1BJITCxD+6YRod23Pjv2mqjuRgBtE/a4xIfx6q4T/VGaA2hIvVP2BBWpX4JtS/SwayRej43r8Glx54QH/cP7lxJTRvQf0/xLJwma57AUCRTqmcVrbcvyvn16FhmMe/reVDvSnr5T+RTqmcVrbcv3jEP1q7Ouy/cUSP1gm80j9RwmaGk/PdP4B/28YcnwLAqO8l3FML3b9mssu+Q9XfP+7eGJkvvvI//Ywv2S8k5r9SqsG4/WjyP9ettwhpMde/du6vZGBo8D+k7UmWeoGgPw==\",\"dtype\":\"float64\",\"order\":\"little\",\"shape\":[50]},\"principal_component_1\":{\"__ndarray__\":\"PRG/DcgdAsChflXa/7AAwDAtSgGQ8QLArHjV6/5uAsB+OOBfNxwDwLMJAJp1kADA61hZG9GQA8C5vPx66N4BwLnvZ05UvALA49Uzb2iCAcDIACQK0k4BwH+PWzp4ngLAbUHW4evKAcBxYBiPIx4FwOJkYiHQiQHA78LFMQADAsDDicmkO58BwNTnRqd8hQHAFLKL2CBO/r9wMd43N7gCwDou6+IFov6/KnpNIB2jAcAkHszufzEGwHOyHOBnIP2/c29EsmPTAcBnStBn+E//v+gJWiugagDA0BcE6nVYAcD06Z27WB8BwCMNM3l7JgLA3+URJwwoAcCzCNRTnk/9v3iUD3eZ3QTAyIxIYeyAA8Dj1TNvaIIBwAbB4qBfsAHAqgtPDPdaAMDj1TNvaIIBwJ7dMoLUfAPAVSP02UddAcA84QHLzkoCwF9zDEaD8v2/X/lj5HF2BMD6iQQfsG3/v/qHnMYlEQHAoe7lFFWaAMDT+qMb0QwDwJFmoB9/LwPALZosq3LQAcDdjpZMy6UBwA==\",\"dtype\":\"float64\",\"order\":\"little\",\"shape\":[50]},\"principal_component_2\":{\"__ndarray__\":\"YO9787ku4D/xF8lWE/nkv3bYpqjuYdS/EiSQjGlp4r/P0afLsZflP7m+IZP5S/g/MiSoGooWsz9veXQ10LHPP88IOjG4hfG/kU6pnFa23L9nMKXTKCHxPym/qP2XTMQ/qao3kBix5r+LiXLvZwbuv9eryBtaPf4/krWrfGrHBUBejF03Ujj4PzP+/04udeA/8kk0V9Tl9j8opZIPTofyP2TAlsG9jNs/2vKSxId67j8/u+o4P1TfPwzWDBwFVLs/SO1BJITCxD+6YRod23Pjv2mqjuRgBtE/a4xIfx6q4T/VGaA2hIvVP2BBWpX4JtS/SwayRej43r8Glx54QH/cP7lxJTRvQf0/xLJwma57AUCRTqmcVrbcvyvn16FhmMe/reVDvSnr5T+RTqmcVrbcv3jEP1q7Ouy/cUSP1gm80j9RwmaGk/PdP4B/28YcnwLAqO8l3FML3b9mssu+Q9XfP+7eGJkvvvI//Ywv2S8k5r9SqsG4/WjyP9ettwhpMde/du6vZGBo8D+k7UmWeoGgPw==\",\"dtype\":\"float64\",\"order\":\"little\",\"shape\":[50]}},\"selected\":{\"id\":\"1472\"},\"selection_policy\":{\"id\":\"1486\"}},\"id\":\"1471\",\"type\":\"ColumnDataSource\"},{\"attributes\":{\"angle\":{\"value\":0.0},\"fill_alpha\":{\"value\":1.0},\"fill_color\":{\"value\":\"#30a2da\"},\"hatch_alpha\":{\"value\":1.0},\"hatch_color\":{\"value\":\"#30a2da\"},\"hatch_scale\":{\"value\":12.0},\"hatch_weight\":{\"value\":1.0},\"line_alpha\":{\"value\":1.0},\"line_cap\":{\"value\":\"butt\"},\"line_color\":{\"value\":\"#30a2da\"},\"line_dash\":{\"value\":[]},\"line_dash_offset\":{\"value\":0},\"line_join\":{\"value\":\"bevel\"},\"line_width\":{\"value\":1},\"marker\":{\"value\":\"circle\"},\"size\":{\"value\":5.477225575051661},\"x\":{\"field\":\"principal component 1\"},\"y\":{\"field\":\"principal component 2\"}},\"id\":\"1491\",\"type\":\"Scatter\"},{\"attributes\":{\"fill_alpha\":{\"value\":0.1},\"fill_color\":{\"value\":\"#30a2da\"},\"hatch_alpha\":{\"value\":0.1},\"hatch_color\":{\"value\":\"#30a2da\"},\"line_alpha\":{\"value\":0.1},\"line_color\":{\"value\":\"#30a2da\"},\"size\":{\"value\":5.477225575051661},\"x\":{\"field\":\"principal component 1\"},\"y\":{\"field\":\"principal component 2\"}},\"id\":\"1475\",\"type\":\"Scatter\"},{\"attributes\":{\"angle\":{\"value\":0.0},\"fill_alpha\":{\"value\":1.0},\"fill_color\":{\"value\":\"#e5ae38\"},\"hatch_alpha\":{\"value\":1.0},\"hatch_color\":{\"value\":\"#e5ae38\"},\"hatch_scale\":{\"value\":12.0},\"hatch_weight\":{\"value\":1.0},\"line_alpha\":{\"value\":1.0},\"line_cap\":{\"value\":\"butt\"},\"line_color\":{\"value\":\"#e5ae38\"},\"line_dash\":{\"value\":[]},\"line_dash_offset\":{\"value\":0},\"line_join\":{\"value\":\"bevel\"},\"line_width\":{\"value\":1},\"marker\":{\"value\":\"circle\"},\"size\":{\"value\":5.477225575051661},\"x\":{\"field\":\"principal component 1\"},\"y\":{\"field\":\"principal component 2\"}},\"id\":\"1537\",\"type\":\"Scatter\"},{\"attributes\":{},\"id\":\"1470\",\"type\":\"AllLabels\"},{\"attributes\":{},\"id\":\"1466\",\"type\":\"BasicTickFormatter\"}],\"root_ids\":[\"1428\"]},\"title\":\"Bokeh Application\",\"version\":\"2.4.1\"}};\n",
       "    var render_items = [{\"docid\":\"6921ff10-f769-40f0-9bf0-d611cbb31dbd\",\"root_ids\":[\"1428\"],\"roots\":{\"1428\":\"b942ef3a-8d52-431f-b772-e69c85ea5e7b\"}}];\n",
       "    root.Bokeh.embed.embed_items_notebook(docs_json, render_items);\n",
       "  }\n",
       "  if (root.Bokeh !== undefined && root.Bokeh.Panel !== undefined) {\n",
       "    embed_document(root);\n",
       "  } else {\n",
       "    var attempts = 0;\n",
       "    var timer = setInterval(function(root) {\n",
       "      if (root.Bokeh !== undefined && root.Bokeh.Panel !== undefined) {\n",
       "        clearInterval(timer);\n",
       "        embed_document(root);\n",
       "      } else if (document.readyState == \"complete\") {\n",
       "        attempts++;\n",
       "        if (attempts > 200) {\n",
       "          clearInterval(timer);\n",
       "          console.log(\"Bokeh: ERROR: Unable to run BokehJS code because BokehJS library is missing\");\n",
       "        }\n",
       "      }\n",
       "    }, 25, root)\n",
       "  }\n",
       "})(window);</script>"
      ],
      "text/plain": [
       ":NdOverlay   [class]\n",
       "   :Scatter   [principal component 1]   (principal component 2,class)"
      ]
     },
     "execution_count": 14,
     "metadata": {
      "application/vnd.holoviews_exec.v0+json": {
       "id": "1428"
      }
     },
     "output_type": "execute_result"
    }
   ],
   "source": [
    "# Plotting the clusters\n",
    "df_iris_pca.hvplot.scatter(\n",
    "    x=\"principal component 1\",\n",
    "    y=\"principal component 2\",\n",
    "    hover_cols=[\"class\"],\n",
    "    by=\"class\",\n",
    ")"
   ]
  },
  {
   "cell_type": "code",
   "execution_count": null,
   "id": "fbb0e680",
   "metadata": {},
   "outputs": [],
   "source": []
  }
 ],
 "metadata": {
  "kernelspec": {
   "display_name": "mlenv",
   "language": "python",
   "name": "mlenv"
  },
  "language_info": {
   "codemirror_mode": {
    "name": "ipython",
    "version": 3
   },
   "file_extension": ".py",
   "mimetype": "text/x-python",
   "name": "python",
   "nbconvert_exporter": "python",
   "pygments_lexer": "ipython3",
   "version": "3.7.11"
  }
 },
 "nbformat": 4,
 "nbformat_minor": 5
}
